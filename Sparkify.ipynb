{
 "cells": [
  {
   "cell_type": "markdown",
   "metadata": {},
   "source": [
    "# Sparkify Project Workspace\n",
    "This workspace contains a tiny subset (128MB) of the full dataset available (12GB). Feel free to use this workspace to build your project, or to explore a smaller subset with Spark before deploying your cluster on the cloud. Instructions for setting up your Spark cluster is included in the last lesson of the Extracurricular Spark Course content.\n",
    "\n",
    "You can follow the steps below to guide your data analysis and model building portion of this project."
   ]
  },
  {
   "cell_type": "code",
   "execution_count": 103,
   "metadata": {},
   "outputs": [],
   "source": [
    "# import libraries\n",
    "\n",
    "from pyspark.sql import SparkSession\n",
    "from pyspark.sql.functions import avg, col, concat, desc, explode, lit, min, max, split, udf, isnull, count\n",
    "from pyspark.sql.types import IntegerType\n",
    "\n",
    "from pyspark.ml import Pipeline\n",
    "from pyspark.ml.classification import LogisticRegression, RandomForestClassifier, GBTClassifier, DecisionTreeClassifier, NaiveBayes\n",
    "from pyspark.ml.evaluation import MulticlassClassificationEvaluator, BinaryClassificationEvaluator\n",
    "from pyspark.ml.feature import CountVectorizer, IDF, Normalizer, PCA, RegexTokenizer, StandardScaler, StopWordsRemover, StringIndexer, VectorAssembler\n",
    "\n",
    "from pyspark.ml.regression import LinearRegression\n",
    "from pyspark.ml.tuning import CrossValidator, ParamGridBuilder\n",
    "\n",
    "import re\n",
    "import datetime\n",
    "import matplotlib.pyplot as plt\n",
    "import pandas as pd\n",
    "import seaborn as sns\n",
    "\n"
   ]
  },
  {
   "cell_type": "code",
   "execution_count": 23,
   "metadata": {},
   "outputs": [],
   "source": [
    "# create a Spark session\n",
    "spark = SparkSession \\\n",
    ".builder \\\n",
    ".appName(\"Sparkify\") \\\n",
    ".getOrCreate()"
   ]
  },
  {
   "cell_type": "code",
   "execution_count": 24,
   "metadata": {},
   "outputs": [
    {
     "data": {
      "text/plain": [
       "<bound method DataFrame.persist of DataFrame[artist: string, auth: string, firstName: string, gender: string, itemInSession: bigint, lastName: string, length: double, level: string, location: string, method: string, page: string, registration: bigint, sessionId: bigint, song: string, status: bigint, ts: bigint, userAgent: string, userId: string]>"
      ]
     },
     "execution_count": 24,
     "metadata": {},
     "output_type": "execute_result"
    }
   ],
   "source": [
    "sparkify_data = 'mini_sparkify_event_data.json'\n",
    "df = spark.read.json(sparkify_data)\n",
    "df.persist"
   ]
  },
  {
   "cell_type": "markdown",
   "metadata": {},
   "source": [
    "# Load and Clean Dataset\n",
    "In this workspace, the mini-dataset file is `mini_sparkify_event_data.json`. Load and clean the dataset, checking for invalid or missing data - for example, records without userids or sessionids. "
   ]
  },
  {
   "cell_type": "code",
   "execution_count": 25,
   "metadata": {},
   "outputs": [
    {
     "data": {
      "text/plain": [
       "286500"
      ]
     },
     "execution_count": 25,
     "metadata": {},
     "output_type": "execute_result"
    }
   ],
   "source": [
    "df.count()"
   ]
  },
  {
   "cell_type": "code",
   "execution_count": 26,
   "metadata": {},
   "outputs": [],
   "source": [
    "df_valid = df.dropna(how = 'any', subset = [\"userId\", \"sessionId\"])"
   ]
  },
  {
   "cell_type": "code",
   "execution_count": 28,
   "metadata": {},
   "outputs": [
    {
     "name": "stdout",
     "output_type": "stream",
     "text": [
      "+------+\n",
      "|userID|\n",
      "+------+\n",
      "|      |\n",
      "|    10|\n",
      "|   100|\n",
      "|100001|\n",
      "|100002|\n",
      "|100003|\n",
      "|100004|\n",
      "|100005|\n",
      "|100006|\n",
      "|100007|\n",
      "|100008|\n",
      "|100009|\n",
      "|100010|\n",
      "|100011|\n",
      "|100012|\n",
      "|100013|\n",
      "|100014|\n",
      "|100015|\n",
      "|100016|\n",
      "|100017|\n",
      "+------+\n",
      "only showing top 20 rows\n",
      "\n"
     ]
    }
   ],
   "source": [
    "df_valid.select(\"userID\").dropDuplicates().sort(\"userID\").show()"
   ]
  },
  {
   "cell_type": "code",
   "execution_count": 29,
   "metadata": {},
   "outputs": [
    {
     "name": "stdout",
     "output_type": "stream",
     "text": [
      "+---------+\n",
      "|sessionID|\n",
      "+---------+\n",
      "|     1338|\n",
      "|       22|\n",
      "|      330|\n",
      "|      241|\n",
      "|     2263|\n",
      "|      155|\n",
      "|      299|\n",
      "|      237|\n",
      "|      564|\n",
      "|      347|\n",
      "|       54|\n",
      "|      926|\n",
      "|      270|\n",
      "|     1217|\n",
      "|     2088|\n",
      "|     1532|\n",
      "|     1277|\n",
      "|     1409|\n",
      "|      656|\n",
      "|      293|\n",
      "+---------+\n",
      "only showing top 20 rows\n",
      "\n"
     ]
    }
   ],
   "source": [
    "df_valid.select(\"sessionID\").dropDuplicates().sort(\"userID\").show()"
   ]
  },
  {
   "cell_type": "code",
   "execution_count": 30,
   "metadata": {},
   "outputs": [
    {
     "data": {
      "text/plain": [
       "278154"
      ]
     },
     "execution_count": 30,
     "metadata": {},
     "output_type": "execute_result"
    }
   ],
   "source": [
    "df_valid = df_valid.filter(df[\"userId\"] != \"\")\n",
    "df_valid.count()"
   ]
  },
  {
   "cell_type": "markdown",
   "metadata": {},
   "source": [
    "# Exploratory Data Analysis\n",
    "When you're working with the full dataset, perform EDA by loading a small subset of the data and doing basic manipulations within Spark. In this workspace, you are already provided a small subset of data you can explore.\n",
    "\n",
    "### Define Churn\n",
    "\n",
    "Once you've done some preliminary analysis, create a column `Churn` to use as the label for your model. I suggest using the `Cancellation Confirmation` events to define your churn, which happen for both paid and free users. As a bonus task, you can also look into the `Downgrade` events.\n",
    "\n",
    "### Explore Data\n",
    "Once you've defined churn, perform some exploratory data analysis to observe the behavior for users who stayed vs users who churned. You can start by exploring aggregates on these two groups of users, observing how much of a specific action they experienced per a certain time unit or number of songs played."
   ]
  },
  {
   "cell_type": "code",
   "execution_count": 33,
   "metadata": {},
   "outputs": [
    {
     "name": "stdout",
     "output_type": "stream",
     "text": [
      "+--------------------+\n",
      "|                page|\n",
      "+--------------------+\n",
      "|              Cancel|\n",
      "|    Submit Downgrade|\n",
      "|         Thumbs Down|\n",
      "|                Home|\n",
      "|           Downgrade|\n",
      "|         Roll Advert|\n",
      "|              Logout|\n",
      "|       Save Settings|\n",
      "|Cancellation Conf...|\n",
      "|               About|\n",
      "|            Settings|\n",
      "|     Add to Playlist|\n",
      "|          Add Friend|\n",
      "|            NextSong|\n",
      "|           Thumbs Up|\n",
      "|                Help|\n",
      "|             Upgrade|\n",
      "|               Error|\n",
      "|      Submit Upgrade|\n",
      "+--------------------+\n",
      "\n"
     ]
    }
   ],
   "source": [
    "df_valid.select(\"page\").dropDuplicates().show()"
   ]
  },
  {
   "cell_type": "code",
   "execution_count": 38,
   "metadata": {},
   "outputs": [],
   "source": [
    "churn_user_df = df.filter(df.page ==\"Cancellation Confirmation\").select(\"userID\").dropDuplicates()\n",
    "churn_user_list = [user[\"userID\"] for user in churn_user_df.collect()]"
   ]
  },
  {
   "cell_type": "code",
   "execution_count": 43,
   "metadata": {},
   "outputs": [],
   "source": [
    "df_valid = df_valid.withColumn(\"churn\" , df_valid.userId.isin(churn_user_list))"
   ]
  },
  {
   "cell_type": "code",
   "execution_count": 47,
   "metadata": {},
   "outputs": [
    {
     "name": "stdout",
     "output_type": "stream",
     "text": [
      "+------+-----+-----+\n",
      "|gender|churn|count|\n",
      "+------+-----+-----+\n",
      "|     M| true|   32|\n",
      "|     F|false|   84|\n",
      "|     F| true|   20|\n",
      "|     M|false|   89|\n",
      "+------+-----+-----+\n",
      "\n"
     ]
    }
   ],
   "source": [
    "df_valid.dropDuplicates([\"userID\"]).groupby(['gender', 'churn']).count().show()"
   ]
  },
  {
   "cell_type": "code",
   "execution_count": 48,
   "metadata": {},
   "outputs": [
    {
     "name": "stdout",
     "output_type": "stream",
     "text": [
      "Churn rate of females:  0.19230769230769232\n",
      "Churn rate of males:  0.2644628099173554\n"
     ]
    }
   ],
   "source": [
    "churn_rate_of_females = 20/(20+84)\n",
    "churn_rate_of_males=  32/ (32+89)\n",
    "\n",
    "print(\"Churn rate of females: \", churn_rate_of_females)\n",
    "print(\"Churn rate of males: \", churn_rate_of_males)"
   ]
  },
  {
   "cell_type": "code",
   "execution_count": 54,
   "metadata": {},
   "outputs": [],
   "source": [
    "df_valid_songs = df_valid.where(df_valid.song!='null').groupby(['churn','userId']) \\\n",
    "    .agg(count(df_valid.song).alias('SongsPlayed')).orderBy('churn').toPandas()"
   ]
  },
  {
   "cell_type": "code",
   "execution_count": 60,
   "metadata": {},
   "outputs": [
    {
     "data": {
      "text/plain": [
       "[]"
      ]
     },
     "execution_count": 60,
     "metadata": {},
     "output_type": "execute_result"
    },
    {
     "data": {
      "image/png": "[encoded data removed]",
      "text/plain": [
       "<matplotlib.figure.Figure at 0x7fe184b159b0>"
      ]
     },
     "metadata": {
      "needs_background": "light"
     },
     "output_type": "display_data"
    }
   ],
   "source": [
    "df_valid_songs.hist(['SongsPlayed'], by='churn', sharex=True, sharey=True,density=1)\n",
    "plt.plot()"
   ]
  },
  {
   "cell_type": "code",
   "execution_count": 65,
   "metadata": {},
   "outputs": [
    {
     "data": {
      "text/plain": [
       "array([<matplotlib.axes._subplots.AxesSubplot object at 0x7fe1849e9668>,\n",
       "       <matplotlib.axes._subplots.AxesSubplot object at 0x7fe1849ae550>], dtype=object)"
      ]
     },
     "execution_count": 65,
     "metadata": {},
     "output_type": "execute_result"
    },
    {
     "data": {
      "image/png": "[encoded data removed]",
      "text/plain": [
       "<matplotlib.figure.Figure at 0x7fe1849e3390>"
      ]
     },
     "metadata": {
      "needs_background": "light"
     },
     "output_type": "display_data"
    }
   ],
   "source": [
    "df_valid_thumbsup = df_valid.where(df_valid.page =='Thumbs Up').groupby(['churn', 'userId']) \\\n",
    ".agg(count(col('page')).alias('ThumbsUp')).orderBy('churn').toPandas()\n",
    "df_valid_thumbsup.hist('ThumbsUp', by = 'churn', bins = 20, sharex = True, sharey = True, density =1 )"
   ]
  },
  {
   "cell_type": "code",
   "execution_count": 69,
   "metadata": {},
   "outputs": [
    {
     "name": "stdout",
     "output_type": "stream",
     "text": [
      "ThumbsUps for people who stay 62.8941176471\n",
      "ThumbsUps for people who leave 37.18\n"
     ]
    }
   ],
   "source": [
    "print('ThumbsUps for people who stay',df_valid_thumbsup[df_valid_thumbsup['churn']==False]['ThumbsUp'].mean())\n",
    "print('ThumbsUps for people who leave',df_valid_thumbsup[df_valid_thumbsup['churn']==True]['ThumbsUp'].mean())"
   ]
  },
  {
   "cell_type": "code",
   "execution_count": 70,
   "metadata": {},
   "outputs": [
    {
     "data": {
      "text/plain": [
       "array([<matplotlib.axes._subplots.AxesSubplot object at 0x7fe1849be048>,\n",
       "       <matplotlib.axes._subplots.AxesSubplot object at 0x7fe184ab3f28>], dtype=object)"
      ]
     },
     "execution_count": 70,
     "metadata": {},
     "output_type": "execute_result"
    },
    {
     "data": {
      "image/png": "[encoded data removed]",
      "text/plain": [
       "<matplotlib.figure.Figure at 0x7fe184a7d6a0>"
      ]
     },
     "metadata": {
      "needs_background": "light"
     },
     "output_type": "display_data"
    }
   ],
   "source": [
    "df_valid_thumbsdown = df_valid.where(df_valid.page=='Thumbs Down') \\\n",
    "    .groupby(['churn','userId']).agg(count(col('page')).alias('ThumbsDowns')).orderBy('churn').toPandas()\n",
    "df_valid_thumbsdown.hist('ThumbsDowns', by='churn', bins=20, sharex=True, sharey=True, density=1)"
   ]
  },
  {
   "cell_type": "code",
   "execution_count": 71,
   "metadata": {},
   "outputs": [
    {
     "name": "stdout",
     "output_type": "stream",
     "text": [
      "ThumbsDowns for people who stay 12.7352941176\n",
      "ThumbsDowns for people who leave 11.5454545455\n"
     ]
    },
    {
     "name": "stderr",
     "output_type": "stream",
     "text": [
      "/opt/conda/lib/python3.6/site-packages/ipykernel_launcher.py:1: UserWarning: Boolean Series key will be reindexed to match DataFrame index.\n",
      "  \"\"\"Entry point for launching an IPython kernel.\n",
      "/opt/conda/lib/python3.6/site-packages/ipykernel_launcher.py:2: UserWarning: Boolean Series key will be reindexed to match DataFrame index.\n",
      "  \n"
     ]
    }
   ],
   "source": [
    "print('ThumbsDowns for people who stay',df_valid_thumbsdown[df_valid_thumbsup['churn']==False]['ThumbsDowns'].mean())\n",
    "print('ThumbsDowns for people who leave',df_valid_thumbsdown[df_valid_thumbsup['churn']==True]['ThumbsDowns'].mean())"
   ]
  },
  {
   "cell_type": "markdown",
   "metadata": {},
   "source": [
    "# Feature Engineering\n",
    "Once you've familiarized yourself with the data, build out the features you find promising to train your model on. To work with the full dataset, you can follow the following steps.\n",
    "- Write a script to extract the necessary features from the smaller subset of data\n",
    "- Ensure that your script is scalable, using the best practices discussed in Lesson 3\n",
    "- Try your script on the full data set, debugging your script if necessary\n",
    "\n",
    "If you are working in the classroom workspace, you can just extract features based on the small subset of data contained here. Be sure to transfer over this work to the larger dataset when you work on your Spark cluster."
   ]
  },
  {
   "cell_type": "code",
   "execution_count": 78,
   "metadata": {},
   "outputs": [
    {
     "data": {
      "text/plain": [
       "DataFrame[userId: string, gender: int]"
      ]
     },
     "execution_count": 78,
     "metadata": {},
     "output_type": "execute_result"
    }
   ],
   "source": [
    "df_gender = df_valid.dropDuplicates(['userId']).sort('userId').select(['userId','gender'])\n",
    "df_gender = df_gender.replace(['F','M'],['1', '0'], 'gender')\n",
    "df_gender.withColumn('gender', df_gender.gender.cast(\"int\"))"
   ]
  },
  {
   "cell_type": "code",
   "execution_count": 81,
   "metadata": {},
   "outputs": [
    {
     "name": "stdout",
     "output_type": "stream",
     "text": [
      "+------+------+\n",
      "|userId|gender|\n",
      "+------+------+\n",
      "|    10|     0|\n",
      "|   100|     0|\n",
      "|100001|     1|\n",
      "|100002|     1|\n",
      "|100003|     1|\n",
      "|100004|     1|\n",
      "|100005|     0|\n",
      "|100006|     1|\n",
      "|100007|     1|\n",
      "|100008|     1|\n",
      "|100009|     0|\n",
      "|100010|     1|\n",
      "|100011|     0|\n",
      "|100012|     0|\n",
      "|100013|     1|\n",
      "|100014|     0|\n",
      "|100015|     1|\n",
      "|100016|     0|\n",
      "|100017|     0|\n",
      "|100018|     0|\n",
      "+------+------+\n",
      "only showing top 20 rows\n",
      "\n"
     ]
    }
   ],
   "source": [
    "df_gender.show()"
   ]
  },
  {
   "cell_type": "code",
   "execution_count": 82,
   "metadata": {},
   "outputs": [],
   "source": [
    "df_songs = df_valid.where(df_valid.song!='null').groupby('userId') \\\n",
    "    .agg(count(df_valid.song).alias('SongsPlayed')).orderBy('userId') \\\n",
    "    .select(['userId','SongsPlayed'])"
   ]
  },
  {
   "cell_type": "code",
   "execution_count": 83,
   "metadata": {},
   "outputs": [
    {
     "name": "stdout",
     "output_type": "stream",
     "text": [
      "+------+-----------+\n",
      "|userId|SongsPlayed|\n",
      "+------+-----------+\n",
      "|    10|        673|\n",
      "|   100|       2682|\n",
      "|100001|        133|\n",
      "|100002|        195|\n",
      "|100003|         51|\n",
      "|100004|        942|\n",
      "|100005|        154|\n",
      "|100006|         26|\n",
      "|100007|        423|\n",
      "|100008|        772|\n",
      "|100009|        518|\n",
      "|100010|        275|\n",
      "|100011|         11|\n",
      "|100012|        476|\n",
      "|100013|       1131|\n",
      "|100014|        257|\n",
      "|100015|        800|\n",
      "|100016|        530|\n",
      "|100017|         52|\n",
      "|100018|       1002|\n",
      "+------+-----------+\n",
      "only showing top 20 rows\n",
      "\n"
     ]
    }
   ],
   "source": [
    "df_songs.show()"
   ]
  },
  {
   "cell_type": "code",
   "execution_count": 84,
   "metadata": {},
   "outputs": [],
   "source": [
    "df_thumbsup = df_valid.where(df_valid.page=='Thumbs Up') \\\n",
    "    .groupby(['userId']).agg(count(col('page')).alias('ThumbsUps')).orderBy('userId').select(['userId','ThumbsUps'])"
   ]
  },
  {
   "cell_type": "code",
   "execution_count": 85,
   "metadata": {},
   "outputs": [],
   "source": [
    "df_thumbsdown = df_valid.where(df_valid.page=='Thumbs Down') \\\n",
    "    .groupby(['userId']).agg(count(col('page')).alias('ThumbsDowns')).orderBy('userId').select(['userId','ThumbsDowns'])"
   ]
  },
  {
   "cell_type": "code",
   "execution_count": 87,
   "metadata": {},
   "outputs": [],
   "source": [
    "df_singers = df_valid.dropDuplicates(['userId','artist']).groupby('userId') \\\n",
    "    .agg(count(df_valid.artist).alias('SingersListened')).orderBy('userId') \\\n",
    "    .select(['userId','SingersListened'])"
   ]
  },
  {
   "cell_type": "code",
   "execution_count": 88,
   "metadata": {},
   "outputs": [
    {
     "name": "stdout",
     "output_type": "stream",
     "text": [
      "+------+---------------+\n",
      "|userId|SingersListened|\n",
      "+------+---------------+\n",
      "|    10|            565|\n",
      "|   100|           1705|\n",
      "|100001|            125|\n",
      "|100002|            184|\n",
      "|100003|             50|\n",
      "|100004|            733|\n",
      "|100005|            149|\n",
      "|100006|             26|\n",
      "|100007|            357|\n",
      "|100008|            623|\n",
      "|100009|            442|\n",
      "|100010|            252|\n",
      "|100011|             11|\n",
      "|100012|            397|\n",
      "|100013|            826|\n",
      "|100014|            233|\n",
      "|100015|            627|\n",
      "|100016|            431|\n",
      "|100017|             51|\n",
      "|100018|            780|\n",
      "+------+---------------+\n",
      "only showing top 20 rows\n",
      "\n"
     ]
    }
   ],
   "source": [
    "df_singers.show()"
   ]
  },
  {
   "cell_type": "code",
   "execution_count": 89,
   "metadata": {},
   "outputs": [],
   "source": [
    "df_final = df_valid.dropDuplicates(['userId']).sort('userId').select(['userId','churn'])\n",
    "\n",
    "for feature in [df_gender, df_songs, df_thumbsup, df_thumbsdown, df_singers]:\n",
    "    df_final = df_final.join(feature, 'userId')"
   ]
  },
  {
   "cell_type": "code",
   "execution_count": 91,
   "metadata": {},
   "outputs": [
    {
     "name": "stdout",
     "output_type": "stream",
     "text": [
      "+------+-----+------+-----------+---------+-----------+---------------+\n",
      "|userId|churn|gender|SongsPlayed|ThumbsUps|ThumbsDowns|SingersListened|\n",
      "+------+-----+------+-----------+---------+-----------+---------------+\n",
      "|100010|false|     1|        275|       17|          5|            252|\n",
      "|200002|false|     0|        387|       21|          6|            339|\n",
      "|   124|false|     1|       4079|      171|         41|           2232|\n",
      "|    51| true|     0|       2111|      100|         21|           1385|\n",
      "|     7|false|     0|        150|        7|          1|            142|\n",
      "|    15|false|     0|       1914|       81|         14|           1302|\n",
      "|    54| true|     1|       2841|      163|         29|           1744|\n",
      "|   155|false|     1|        820|       58|          3|            643|\n",
      "|100014| true|     0|        257|       17|          3|            233|\n",
      "|   132|false|     1|       1928|       96|         17|           1299|\n",
      "|   101| true|     0|       1797|       86|         16|           1241|\n",
      "|    11|false|     1|        647|       40|          9|            534|\n",
      "|   138|false|     0|       2070|       95|         24|           1332|\n",
      "|300017|false|     1|       3632|      303|         28|           2070|\n",
      "|100021| true|     0|        230|       11|          5|            207|\n",
      "|    29| true|     0|       3028|      154|         22|           1804|\n",
      "|    69|false|     1|       1125|       72|          9|            865|\n",
      "|   112|false|     0|        215|        9|          3|            195|\n",
      "|    42|false|     1|       3573|      166|         25|           2073|\n",
      "|    73| true|     1|        377|       14|          7|            334|\n",
      "+------+-----+------+-----------+---------+-----------+---------------+\n",
      "only showing top 20 rows\n",
      "\n"
     ]
    }
   ],
   "source": [
    "df_final.show()"
   ]
  },
  {
   "cell_type": "markdown",
   "metadata": {},
   "source": [
    "# Modeling\n",
    "Split the full dataset into train, test, and validation sets. Test out several of the machine learning methods you learned. Evaluate the accuracy of the various models, tuning parameters as necessary. Determine your winning model based on test accuracy and report results on the validation set. Since the churned users are a fairly small subset, I suggest using F1 score as the metric to optimize."
   ]
  },
  {
   "cell_type": "code",
   "execution_count": 92,
   "metadata": {},
   "outputs": [
    {
     "name": "stdout",
     "output_type": "stream",
     "text": [
      "+-----+-----+\n",
      "|churn|count|\n",
      "+-----+-----+\n",
      "| true|   47|\n",
      "|false|  155|\n",
      "+-----+-----+\n",
      "\n"
     ]
    }
   ],
   "source": [
    "df_final.groupby(\"churn\").count().show()"
   ]
  },
  {
   "cell_type": "code",
   "execution_count": 93,
   "metadata": {},
   "outputs": [
    {
     "data": {
      "text/plain": [
       "[('userId', 'string'),\n",
       " ('churn', 'boolean'),\n",
       " ('gender', 'string'),\n",
       " ('SongsPlayed', 'bigint'),\n",
       " ('ThumbsUps', 'bigint'),\n",
       " ('ThumbsDowns', 'bigint'),\n",
       " ('SingersListened', 'bigint')]"
      ]
     },
     "execution_count": 93,
     "metadata": {},
     "output_type": "execute_result"
    }
   ],
   "source": [
    "df_final.dtypes"
   ]
  },
  {
   "cell_type": "code",
   "execution_count": 96,
   "metadata": {},
   "outputs": [],
   "source": [
    "for feature in df_final.columns[1:]:\n",
    "    df_final = df_final.withColumn(feature,df_final[feature].cast('float'))"
   ]
  },
  {
   "cell_type": "code",
   "execution_count": 97,
   "metadata": {},
   "outputs": [
    {
     "data": {
      "text/plain": [
       "[('userId', 'string'),\n",
       " ('churn', 'float'),\n",
       " ('gender', 'float'),\n",
       " ('SongsPlayed', 'float'),\n",
       " ('ThumbsUps', 'float'),\n",
       " ('ThumbsDowns', 'float'),\n",
       " ('SingersListened', 'float')]"
      ]
     },
     "execution_count": 97,
     "metadata": {},
     "output_type": "execute_result"
    }
   ],
   "source": [
    "df_final.dtypes"
   ]
  },
  {
   "cell_type": "code",
   "execution_count": 98,
   "metadata": {},
   "outputs": [
    {
     "name": "stdout",
     "output_type": "stream",
     "text": [
      "+------+-----+------+-----------+---------+-----------+---------------+\n",
      "|userId|churn|gender|SongsPlayed|ThumbsUps|ThumbsDowns|SingersListened|\n",
      "+------+-----+------+-----------+---------+-----------+---------------+\n",
      "|100010|  0.0|   1.0|      275.0|     17.0|        5.0|          252.0|\n",
      "|200002|  0.0|   0.0|      387.0|     21.0|        6.0|          339.0|\n",
      "|   124|  0.0|   1.0|     4079.0|    171.0|       41.0|         2232.0|\n",
      "|    51|  1.0|   0.0|     2111.0|    100.0|       21.0|         1385.0|\n",
      "|     7|  0.0|   0.0|      150.0|      7.0|        1.0|          142.0|\n",
      "+------+-----+------+-----------+---------+-----------+---------------+\n",
      "only showing top 5 rows\n",
      "\n"
     ]
    }
   ],
   "source": [
    "df_final.show(5)"
   ]
  },
  {
   "cell_type": "code",
   "execution_count": 99,
   "metadata": {},
   "outputs": [],
   "source": [
    "train, test = df_final. randomSplit ([0.8, 0.2], seed = 40)"
   ]
  },
  {
   "cell_type": "code",
   "execution_count": 100,
   "metadata": {},
   "outputs": [],
   "source": [
    "assembler = VectorAssembler(inputCols=df_final.columns[2:],outputCol='featuresassemble')\n",
    "scaler = StandardScaler(inputCol=\"featuresassemble\", outputCol=\"features\", withStd=True)\n",
    "indexer = StringIndexer(inputCol=\"churn\", outputCol=\"label\")\n",
    "\n",
    "lr =  LogisticRegression(maxIter=10, regParam=0.0, elasticNetParam=0)\n",
    "\n",
    "stringIndexer = StringIndexer(inputCol=\"label\", outputCol=\"indexed\")\n",
    "rf = RandomForestClassifier(numTrees=3, maxDepth=2, labelCol=\"indexed\", seed=42)"
   ]
  },
  {
   "cell_type": "code",
   "execution_count": 104,
   "metadata": {},
   "outputs": [],
   "source": [
    "pipeline_lr = Pipeline(stages=[assembler, scaler, indexer, lr])\n",
    "\n",
    "paramGrid_lr = ParamGridBuilder() \\\n",
    "    .addGrid(lr.regParam,[0.0, 0.1, 0.01]) \\\n",
    "    .build()\n",
    "\n",
    "\n",
    "crossval_lr = CrossValidator(estimator=pipeline_lr,\n",
    "                          estimatorParamMaps=paramGrid_lr,\n",
    "                          evaluator=BinaryClassificationEvaluator(),\n",
    "                          numFolds=3)"
   ]
  },
  {
   "cell_type": "code",
   "execution_count": 105,
   "metadata": {},
   "outputs": [],
   "source": [
    "cvModel_lr = crossval_lr.fit(train)"
   ]
  },
  {
   "cell_type": "code",
   "execution_count": 106,
   "metadata": {},
   "outputs": [
    {
     "data": {
      "text/plain": [
       "[0.6025505998672367, 0.570234476316766, 0.5864861634092403]"
      ]
     },
     "execution_count": 106,
     "metadata": {},
     "output_type": "execute_result"
    }
   ],
   "source": [
    "cvModel_lr.avgMetrics"
   ]
  },
  {
   "cell_type": "code",
   "execution_count": 107,
   "metadata": {},
   "outputs": [
    {
     "data": {
      "text/plain": [
       "0.7225806451612905"
      ]
     },
     "execution_count": 107,
     "metadata": {},
     "output_type": "execute_result"
    }
   ],
   "source": [
    "# test performance\n",
    "results = cvModel_lr.transform(test)\n",
    "BinaryClassificationEvaluator().evaluate(results)"
   ]
  },
  {
   "cell_type": "code",
   "execution_count": 108,
   "metadata": {},
   "outputs": [
    {
     "name": "stdout",
     "output_type": "stream",
     "text": [
      "[0.669031746031746, 0.649031746031746, 0.6603809523809523]\n",
      "0.37254901960784315\n"
     ]
    }
   ],
   "source": [
    "train_2, test_2 = df_final.randomSplit([0.9, 0.1], seed=43)\n",
    "cvModel_lr_2 = crossval_lr.fit(train_2)\n",
    "print(cvModel_lr_2.avgMetrics)\n",
    "results_2 = cvModel_lr.transform(test_2)\n",
    "print(BinaryClassificationEvaluator().evaluate(results_2))"
   ]
  },
  {
   "cell_type": "code",
   "execution_count": 109,
   "metadata": {},
   "outputs": [
    {
     "name": "stdout",
     "output_type": "stream",
     "text": [
      "[0.6304115866296305, 0.6076304185243654, 0.6262565373978866]\n",
      "0.8409090909090908\n"
     ]
    }
   ],
   "source": [
    "train_3, test_3 = df_final.randomSplit([0.9, 0.1], seed=44)\n",
    "cvModel_lr_3 = crossval_lr.fit(train_3)\n",
    "print(cvModel_lr_3.avgMetrics)\n",
    "results_3 = cvModel_lr.transform(test_3)\n",
    "print(BinaryClassificationEvaluator().evaluate(results_3))"
   ]
  },
  {
   "cell_type": "code",
   "execution_count": 110,
   "metadata": {},
   "outputs": [],
   "source": [
    "pipeline_rf = Pipeline(stages=[assembler, scaler, indexer, stringIndexer, rf])\n",
    "\n",
    "paramGrid_rf = ParamGridBuilder() \\\n",
    "    .addGrid(rf.numTrees,[10, 30]) \\\n",
    "    .build()\n",
    "\n",
    "\n",
    "crossval_rf = CrossValidator(estimator=pipeline_rf,\n",
    "                          estimatorParamMaps=paramGrid_rf,\n",
    "                          evaluator=BinaryClassificationEvaluator(),\n",
    "                          numFolds=3)"
   ]
  },
  {
   "cell_type": "code",
   "execution_count": 111,
   "metadata": {},
   "outputs": [],
   "source": [
    "cvModel_rf = crossval_rf.fit(train)"
   ]
  },
  {
   "cell_type": "code",
   "execution_count": 112,
   "metadata": {},
   "outputs": [
    {
     "data": {
      "text/plain": [
       "[0.5560187675572291, 0.5999204532299344]"
      ]
     },
     "execution_count": 112,
     "metadata": {},
     "output_type": "execute_result"
    }
   ],
   "source": [
    "cvModel_rf.avgMetrics"
   ]
  },
  {
   "cell_type": "code",
   "execution_count": 113,
   "metadata": {},
   "outputs": [],
   "source": [
    "results = cvModel_rf.transform(test)"
   ]
  },
  {
   "cell_type": "code",
   "execution_count": 114,
   "metadata": {},
   "outputs": [
    {
     "name": "stdout",
     "output_type": "stream",
     "text": [
      "0.5951612903225806\n"
     ]
    }
   ],
   "source": [
    "print(BinaryClassificationEvaluator().evaluate(results))\n"
   ]
  },
  {
   "cell_type": "code",
   "execution_count": 115,
   "metadata": {},
   "outputs": [
    {
     "name": "stdout",
     "output_type": "stream",
     "text": [
      "[0.5988174603174603, 0.6608869047619048]\n",
      "0.3137254901960784\n"
     ]
    }
   ],
   "source": [
    "train_2, test_2 = df_final.randomSplit([0.9, 0.1], seed=43)\n",
    "cvModel_rf_2 = crossval_rf.fit(train_2)\n",
    "print(cvModel_rf_2.avgMetrics)\n",
    "results_2 = cvModel_rf_2.transform(test_2)\n",
    "print(BinaryClassificationEvaluator().evaluate(results_2))"
   ]
  },
  {
   "cell_type": "code",
   "execution_count": 116,
   "metadata": {},
   "outputs": [
    {
     "name": "stdout",
     "output_type": "stream",
     "text": [
      "[0.5422493273886974, 0.5355126550409415]\n",
      "0.6931818181818181\n"
     ]
    }
   ],
   "source": [
    "train_3, test_3 = df_final.randomSplit([0.9, 0.1], seed=44)\n",
    "cvModel_rf_3 = crossval_rf.fit(train_3)\n",
    "print(cvModel_rf_3.avgMetrics)\n",
    "results_3 = cvModel_rf_3.transform(test_3)\n",
    "print(BinaryClassificationEvaluator().evaluate(results_3))"
   ]
  },
  {
   "cell_type": "markdown",
   "metadata": {},
   "source": [
    "# Final Steps\n",
    "Clean up your code, adding comments and renaming variables to make the code easier to read and maintain. Refer to the Spark Project Overview page and Data Scientist Capstone Project Rubric to make sure you are including all components of the capstone project and meet all expectations. Remember, this includes thorough documentation in a README file in a Github repository, as well as a web app or blog post."
   ]
  },
  {
   "cell_type": "code",
   "execution_count": null,
   "metadata": {},
   "outputs": [],
   "source": []
  }
 ],
 "metadata": {
  "kernelspec": {
   "display_name": "Python 3",
   "language": "python",
   "name": "python3"
  },
  "language_info": {
   "codemirror_mode": {
    "name": "ipython",
    "version": 3
   },
   "file_extension": ".py",
   "mimetype": "text/x-python",
   "name": "python",
   "nbconvert_exporter": "python",
   "pygments_lexer": "ipython3",
   "version": "3.6.3"
  }
 },
 "nbformat": 4,
 "nbformat_minor": 2
}
